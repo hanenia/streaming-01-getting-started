{
 "cells": [
  {
   "cell_type": "code",
   "execution_count": 2,
   "metadata": {},
   "outputs": [
    {
     "name": "stderr",
     "output_type": "stream",
     "text": [
      "2024-05-03 20:10:15,096 - INFO - ===============================================\n",
      "2024-05-03 20:10:15,102 - INFO - Starting batch process C.\n",
      "2024-05-03 20:10:15,104 - INFO - Processing complete! Check for new file.\n",
      "2024-05-03 20:10:15,105 - INFO - ===============================================\n"
     ]
    }
   ],
   "source": [
    "\"\"\"\n",
    "Batch Process C: Third transformation\n",
    "\n",
    "Read from a file, transform, write to a new file.\n",
    "In this case, covert degree K to degree F.\n",
    "\n",
    "Note: \n",
    "This is a batch process, but the file objects we use are \n",
    "often called 'file-like objects' or 'streams'.\n",
    "Streaming differs in that the input data is unbounded.\n",
    "\n",
    "Use logging, very helpful when working with batch and streaming processes. \n",
    "\n",
    "\"\"\"\n",
    "\n",
    "# Import from Python Standard Library\n",
    "\n",
    "import csv\n",
    "import logging\n",
    "\n",
    "# Set up basic configuration for logging\n",
    "\n",
    "logging.basicConfig(\n",
    "    level=logging.INFO, format=\"%(asctime)s - %(levelname)s - %(message)s\"\n",
    ")\n",
    "\n",
    "# Declare program constants\n",
    "\n",
    "INPUT_FILE_NAME = \"batchfile_2_kelvin.csv\"\n",
    "OUTPUT_FILE_NAME = \"batchfile_3_farenheit.csv\"\n",
    "\n",
    "# Define program functions (bits of reusable code)\n",
    "# Use docstrings - and indentation matters!\n",
    "\n",
    "\n",
    "def convert_k_to_f(temp_k):\n",
    "    return\n",
    "\n",
    "\n",
    "def process_rows(input_file_name, output_file_name):\n",
    "    return\n",
    "\n",
    "\n",
    "# ---------------------------------------------------------------------------\n",
    "# If this is the script we are running, then call some functions and execute code!\n",
    "# ---------------------------------------------------------------------------\n",
    "\n",
    "if __name__ == \"__main__\":\n",
    "    try:\n",
    "        logging.info(\"===============================================\")\n",
    "        logging.info(\"Starting batch process C.\")\n",
    "        process_rows(INPUT_FILE_NAME, OUTPUT_FILE_NAME)\n",
    "        logging.info(\"Processing complete! Check for new file.\")\n",
    "        logging.info(\"===============================================\")\n",
    "    except Exception as e:\n",
    "        logging.error(f\"An error occurred: {e}\")"
   ]
  }
 ],
 "metadata": {
  "kernelspec": {
   "display_name": "Python 3 (ipykernel)",
   "language": "python",
   "name": "python3"
  },
  "language_info": {
   "codemirror_mode": {
    "name": "ipython",
    "version": 3
   },
   "file_extension": ".py",
   "mimetype": "text/x-python",
   "name": "python",
   "nbconvert_exporter": "python",
   "pygments_lexer": "ipython3",
   "version": "3.10.9"
  }
 },
 "nbformat": 4,
 "nbformat_minor": 2
}
